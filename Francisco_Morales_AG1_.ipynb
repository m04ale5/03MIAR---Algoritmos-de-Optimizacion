{
  "nbformat": 4,
  "nbformat_minor": 0,
  "metadata": {
    "colab": {
      "provenance": [],
      "authorship_tag": "ABX9TyPQ3tdxaqv3eoMWFRfHVAez",
      "include_colab_link": true
    },
    "kernelspec": {
      "name": "python3",
      "display_name": "Python 3"
    },
    "language_info": {
      "name": "python"
    }
  },
  "cells": [
    {
      "cell_type": "markdown",
      "metadata": {
        "id": "view-in-github",
        "colab_type": "text"
      },
      "source": [
        "<a href=\"https://colab.research.google.com/github/m04ale5/03MIAR---Algoritmos-de-Optimizacion/blob/main/Francisco_Morales_AG1_.ipynb\" target=\"_parent\"><img src=\"https://colab.research.google.com/assets/colab-badge.svg\" alt=\"Open In Colab\"/></a>"
      ]
    },
    {
      "cell_type": "markdown",
      "source": [
        "#AG1 - Actividad Guiada 1\n",
        "Nombre: Francisco Morales Peris <br>\n",
        "Link: https://colab.research.google.com/drive/1LWLEPAOFK4EH8u2ktR_cbwHO0iRvNoYb?usp=sharing<br>\n",
        "Github: https://github.com/m04ale5/03MIAR---Algoritmos-de-Optimizacion\n",
        "<br>"
      ],
      "metadata": {
        "id": "C8MlH5m1F-yE"
      }
    },
    {
      "cell_type": "code",
      "execution_count": 1,
      "metadata": {
        "colab": {
          "base_uri": "https://localhost:8080/",
          "height": 0
        },
        "id": "jrQ9fipMFoMO",
        "outputId": "cfb586b4-3c5d-4e9a-e4fb-f38abd536b3c"
      },
      "outputs": [
        {
          "output_type": "stream",
          "name": "stdout",
          "text": [
            "Lleva la ficha desde 1 hasta 2\n",
            "Lleva la ficha desde 1 hasta 3\n",
            "Lleva la ficha desde 2 hasta 3\n",
            "Lleva la ficha desde 1 hasta 2\n",
            "Lleva la ficha desde 3 hasta 1\n",
            "Lleva la ficha desde 3 hasta 2\n",
            "Lleva la ficha desde 1 hasta 2\n",
            "Lleva la ficha desde 1 hasta 3\n",
            "Lleva la ficha desde 2 hasta 3\n",
            "Lleva la ficha desde 2 hasta 1\n",
            "Lleva la ficha desde 3 hasta 1\n",
            "Lleva la ficha desde 2 hasta 3\n",
            "Lleva la ficha desde 1 hasta 2\n",
            "Lleva la ficha desde 1 hasta 3\n",
            "Lleva la ficha desde 2 hasta 3\n",
            "Lleva la ficha desde 1 hasta 2\n",
            "Lleva la ficha desde 3 hasta 1\n",
            "Lleva la ficha desde 3 hasta 2\n",
            "Lleva la ficha desde 1 hasta 2\n",
            "Lleva la ficha desde 3 hasta 1\n",
            "Lleva la ficha desde 2 hasta 3\n",
            "Lleva la ficha desde 2 hasta 1\n",
            "Lleva la ficha desde 3 hasta 1\n",
            "Lleva la ficha desde 3 hasta 2\n",
            "Lleva la ficha desde 1 hasta 2\n",
            "Lleva la ficha desde 1 hasta 3\n",
            "Lleva la ficha desde 2 hasta 3\n",
            "Lleva la ficha desde 1 hasta 2\n",
            "Lleva la ficha desde 3 hasta 1\n",
            "Lleva la ficha desde 3 hasta 2\n",
            "Lleva la ficha desde 1 hasta 2\n",
            "Lleva la ficha desde 1 hasta 3\n",
            "Lleva la ficha desde 2 hasta 3\n",
            "Lleva la ficha desde 2 hasta 1\n",
            "Lleva la ficha desde 3 hasta 1\n",
            "Lleva la ficha desde 2 hasta 3\n",
            "Lleva la ficha desde 1 hasta 2\n",
            "Lleva la ficha desde 1 hasta 3\n",
            "Lleva la ficha desde 2 hasta 3\n",
            "Lleva la ficha desde 2 hasta 1\n",
            "Lleva la ficha desde 3 hasta 1\n",
            "Lleva la ficha desde 3 hasta 2\n",
            "Lleva la ficha desde 1 hasta 2\n",
            "Lleva la ficha desde 3 hasta 1\n",
            "Lleva la ficha desde 2 hasta 3\n",
            "Lleva la ficha desde 2 hasta 1\n",
            "Lleva la ficha desde 3 hasta 1\n",
            "Lleva la ficha desde 2 hasta 3\n",
            "Lleva la ficha desde 1 hasta 2\n",
            "Lleva la ficha desde 1 hasta 3\n",
            "Lleva la ficha desde 2 hasta 3\n",
            "Lleva la ficha desde 1 hasta 2\n",
            "Lleva la ficha desde 3 hasta 1\n",
            "Lleva la ficha desde 3 hasta 2\n",
            "Lleva la ficha desde 1 hasta 2\n",
            "Lleva la ficha desde 1 hasta 3\n",
            "Lleva la ficha desde 2 hasta 3\n",
            "Lleva la ficha desde 2 hasta 1\n",
            "Lleva la ficha desde 3 hasta 1\n",
            "Lleva la ficha desde 2 hasta 3\n",
            "Lleva la ficha desde 1 hasta 2\n",
            "Lleva la ficha desde 1 hasta 3\n",
            "Lleva la ficha desde 2 hasta 3\n"
          ]
        }
      ],
      "source": [
        "#Torres de Hanoi - Divide y venceras\n",
        "################################################################################\n",
        "\n",
        "\n",
        "################################################################\n",
        "def Torres_Hanoi(N, desde, hasta):\n",
        "  #N - Nº de fichas\n",
        "  #desde - torre inicial\n",
        "  #hasta - torre fina\n",
        "  if N==1 :\n",
        "    print(\"Lleva la ficha desde \" + str(desde) + \" hasta \" + str(hasta))\n",
        "\n",
        "  else:\n",
        "    Torres_Hanoi(N-1, desde, 6-desde-hasta)\n",
        "    print(\"Lleva la ficha desde \" + str(desde) + \" hasta \" + str(hasta))\n",
        "    Torres_Hanoi(N-1, 6-desde-hasta,  hasta)\n",
        "\n",
        "Torres_Hanoi(6, 1, 3)\n",
        "################################################################"
      ]
    },
    {
      "cell_type": "code",
      "source": [
        "#Cambio de monedas - Técnica voraz\n",
        "################################################################################\n",
        "SISTEMA = [12, 5 ,  1  ]\n",
        "################################################################\n",
        "def cambio_monedas(CANTIDAD,SISTEMA):\n",
        "#....\n",
        "  SOLUCION = [0]*len(SISTEMA)\n",
        "  ValorAcumulado = 0\n",
        "\n",
        "  for i,valor in enumerate(SISTEMA):\n",
        "    monedas = (CANTIDAD-ValorAcumulado)//valor\n",
        "    SOLUCION[i] = monedas\n",
        "    ValorAcumulado = ValorAcumulado + monedas*valor\n",
        "\n",
        "    if CANTIDAD == ValorAcumulado:\n",
        "      return SOLUCION\n",
        "\n",
        "  print(\"No es posible encontrar solucion\")\n",
        "\n",
        "cambio_monedas(15,SISTEMA)\n",
        "\n",
        "\n",
        "################################################################"
      ],
      "metadata": {
        "colab": {
          "base_uri": "https://localhost:8080/",
          "height": 0
        },
        "id": "qJDMAsWNPjZe",
        "outputId": "cf844fc9-f11b-422f-ff7d-f0919669613c"
      },
      "execution_count": 2,
      "outputs": [
        {
          "output_type": "execute_result",
          "data": {
            "text/plain": [
              "[1, 0, 3]"
            ]
          },
          "metadata": {},
          "execution_count": 2
        }
      ]
    },
    {
      "cell_type": "code",
      "source": [
        "#N Reinas - Vuelta Atrás()\n",
        "################################################################################\n",
        "\n",
        "#Verifica que en la solución parcial no hay amenzas entre reinas\n",
        "################################################################\n",
        "def es_prometedora(SOLUCION,etapa):\n",
        "################################################################\n",
        "  #print(SOLUCION)\n",
        "  #Si la solución tiene dos valores iguales no es valida => Dos reinas en la misma fila\n",
        "  for i in range(etapa+1):\n",
        "    #print(\"El valor \" + str(SOLUCION[i]) + \" está \" +  str(SOLUCION.count(SOLUCION[i])) + \" veces\")\n",
        "    if SOLUCION.count(SOLUCION[i]) > 1:\n",
        "      return False\n",
        "\n",
        "    #Verifica las diagonales\n",
        "    for j in range(i+1, etapa +1 ):\n",
        "      #print(\"Comprobando diagonal de \" + str(i) + \" y \" + str(j))\n",
        "      if abs(i-j) == abs(SOLUCION[i]-SOLUCION[j]) : return False\n",
        "  return True\n",
        "\n",
        "#Traduce la solución al tablero\n",
        "################################################################\n",
        "def escribe_solucion(S):\n",
        "################################################################\n",
        "  n = len(S)\n",
        "  for x in range(n):\n",
        "    print(\"\")\n",
        "    for i in range(n):\n",
        "      if S[i] == x+1:\n",
        "        print(\" X \" , end=\"\")\n",
        "      else:\n",
        "        print(\" - \", end=\"\")\n",
        "\n",
        "\n",
        "\n",
        "#Proceso principal de N-Reinas\n",
        "################################################################\n",
        "def reinas(N, solucion=[],etapa=0):\n",
        "################################################################\n",
        "### ....\n",
        "  if len(solucion) == 0:         # [0,0,0...]\n",
        "    solucion = [0 for i in range(N) ]\n",
        "\n",
        "  for i in range(1, N+1):\n",
        "    solucion[etapa] = i\n",
        "    if es_prometedora(solucion, etapa):\n",
        "      if etapa == N-1:\n",
        "        print(solucion)\n",
        "      else:\n",
        "        reinas(N, solucion, etapa+1)\n",
        "    else:\n",
        "      None\n",
        "\n",
        "  solucion[etapa] = 0\n",
        "\n",
        "reinas(8,solucion=[],etapa=0)"
      ],
      "metadata": {
        "id": "azMejNZsW6Ch",
        "colab": {
          "base_uri": "https://localhost:8080/",
          "height": 0
        },
        "outputId": "4a3cf829-0fd4-4ebb-b108-03af8262190d"
      },
      "execution_count": 3,
      "outputs": [
        {
          "output_type": "stream",
          "name": "stdout",
          "text": [
            "[1, 5, 8, 6, 3, 7, 2, 4]\n",
            "[1, 6, 8, 3, 7, 4, 2, 5]\n",
            "[1, 7, 4, 6, 8, 2, 5, 3]\n",
            "[1, 7, 5, 8, 2, 4, 6, 3]\n",
            "[2, 4, 6, 8, 3, 1, 7, 5]\n",
            "[2, 5, 7, 1, 3, 8, 6, 4]\n",
            "[2, 5, 7, 4, 1, 8, 6, 3]\n",
            "[2, 6, 1, 7, 4, 8, 3, 5]\n",
            "[2, 6, 8, 3, 1, 4, 7, 5]\n",
            "[2, 7, 3, 6, 8, 5, 1, 4]\n",
            "[2, 7, 5, 8, 1, 4, 6, 3]\n",
            "[2, 8, 6, 1, 3, 5, 7, 4]\n",
            "[3, 1, 7, 5, 8, 2, 4, 6]\n",
            "[3, 5, 2, 8, 1, 7, 4, 6]\n",
            "[3, 5, 2, 8, 6, 4, 7, 1]\n",
            "[3, 5, 7, 1, 4, 2, 8, 6]\n",
            "[3, 5, 8, 4, 1, 7, 2, 6]\n",
            "[3, 6, 2, 5, 8, 1, 7, 4]\n",
            "[3, 6, 2, 7, 1, 4, 8, 5]\n",
            "[3, 6, 2, 7, 5, 1, 8, 4]\n",
            "[3, 6, 4, 1, 8, 5, 7, 2]\n",
            "[3, 6, 4, 2, 8, 5, 7, 1]\n",
            "[3, 6, 8, 1, 4, 7, 5, 2]\n",
            "[3, 6, 8, 1, 5, 7, 2, 4]\n",
            "[3, 6, 8, 2, 4, 1, 7, 5]\n",
            "[3, 7, 2, 8, 5, 1, 4, 6]\n",
            "[3, 7, 2, 8, 6, 4, 1, 5]\n",
            "[3, 8, 4, 7, 1, 6, 2, 5]\n",
            "[4, 1, 5, 8, 2, 7, 3, 6]\n",
            "[4, 1, 5, 8, 6, 3, 7, 2]\n",
            "[4, 2, 5, 8, 6, 1, 3, 7]\n",
            "[4, 2, 7, 3, 6, 8, 1, 5]\n",
            "[4, 2, 7, 3, 6, 8, 5, 1]\n",
            "[4, 2, 7, 5, 1, 8, 6, 3]\n",
            "[4, 2, 8, 5, 7, 1, 3, 6]\n",
            "[4, 2, 8, 6, 1, 3, 5, 7]\n",
            "[4, 6, 1, 5, 2, 8, 3, 7]\n",
            "[4, 6, 8, 2, 7, 1, 3, 5]\n",
            "[4, 6, 8, 3, 1, 7, 5, 2]\n",
            "[4, 7, 1, 8, 5, 2, 6, 3]\n",
            "[4, 7, 3, 8, 2, 5, 1, 6]\n",
            "[4, 7, 5, 2, 6, 1, 3, 8]\n",
            "[4, 7, 5, 3, 1, 6, 8, 2]\n",
            "[4, 8, 1, 3, 6, 2, 7, 5]\n",
            "[4, 8, 1, 5, 7, 2, 6, 3]\n",
            "[4, 8, 5, 3, 1, 7, 2, 6]\n",
            "[5, 1, 4, 6, 8, 2, 7, 3]\n",
            "[5, 1, 8, 4, 2, 7, 3, 6]\n",
            "[5, 1, 8, 6, 3, 7, 2, 4]\n",
            "[5, 2, 4, 6, 8, 3, 1, 7]\n",
            "[5, 2, 4, 7, 3, 8, 6, 1]\n",
            "[5, 2, 6, 1, 7, 4, 8, 3]\n",
            "[5, 2, 8, 1, 4, 7, 3, 6]\n",
            "[5, 3, 1, 6, 8, 2, 4, 7]\n",
            "[5, 3, 1, 7, 2, 8, 6, 4]\n",
            "[5, 3, 8, 4, 7, 1, 6, 2]\n",
            "[5, 7, 1, 3, 8, 6, 4, 2]\n",
            "[5, 7, 1, 4, 2, 8, 6, 3]\n",
            "[5, 7, 2, 4, 8, 1, 3, 6]\n",
            "[5, 7, 2, 6, 3, 1, 4, 8]\n",
            "[5, 7, 2, 6, 3, 1, 8, 4]\n",
            "[5, 7, 4, 1, 3, 8, 6, 2]\n",
            "[5, 8, 4, 1, 3, 6, 2, 7]\n",
            "[5, 8, 4, 1, 7, 2, 6, 3]\n",
            "[6, 1, 5, 2, 8, 3, 7, 4]\n",
            "[6, 2, 7, 1, 3, 5, 8, 4]\n",
            "[6, 2, 7, 1, 4, 8, 5, 3]\n",
            "[6, 3, 1, 7, 5, 8, 2, 4]\n",
            "[6, 3, 1, 8, 4, 2, 7, 5]\n",
            "[6, 3, 1, 8, 5, 2, 4, 7]\n",
            "[6, 3, 5, 7, 1, 4, 2, 8]\n",
            "[6, 3, 5, 8, 1, 4, 2, 7]\n",
            "[6, 3, 7, 2, 4, 8, 1, 5]\n",
            "[6, 3, 7, 2, 8, 5, 1, 4]\n",
            "[6, 3, 7, 4, 1, 8, 2, 5]\n",
            "[6, 4, 1, 5, 8, 2, 7, 3]\n",
            "[6, 4, 2, 8, 5, 7, 1, 3]\n",
            "[6, 4, 7, 1, 3, 5, 2, 8]\n",
            "[6, 4, 7, 1, 8, 2, 5, 3]\n",
            "[6, 8, 2, 4, 1, 7, 5, 3]\n",
            "[7, 1, 3, 8, 6, 4, 2, 5]\n",
            "[7, 2, 4, 1, 8, 5, 3, 6]\n",
            "[7, 2, 6, 3, 1, 4, 8, 5]\n",
            "[7, 3, 1, 6, 8, 5, 2, 4]\n",
            "[7, 3, 8, 2, 5, 1, 6, 4]\n",
            "[7, 4, 2, 5, 8, 1, 3, 6]\n",
            "[7, 4, 2, 8, 6, 1, 3, 5]\n",
            "[7, 5, 3, 1, 6, 8, 2, 4]\n",
            "[8, 2, 4, 1, 7, 5, 3, 6]\n",
            "[8, 2, 5, 3, 1, 7, 4, 6]\n",
            "[8, 3, 1, 6, 2, 5, 7, 4]\n",
            "[8, 4, 1, 3, 6, 2, 7, 5]\n"
          ]
        }
      ]
    },
    {
      "cell_type": "code",
      "source": [
        "#Viaje por el rio - Programación dinámica\n",
        "################################################################################\n",
        "\n",
        "TARIFAS = [\n",
        "[0,5,4,3,999,999,999],\n",
        "[999,0,999,2,3,999,11],\n",
        "[999,999, 0,1,999,4,10],\n",
        "[999,999,999, 0,5,6,9],\n",
        "[999,999, 999,999,0,999,4],\n",
        "[999,999, 999,999,999,0,3],\n",
        "[999,999,999,999,999,999,0]\n",
        "]\n",
        "\n",
        "#999 se puede sustituir por float(\"inf\")\n",
        "\n",
        "\n",
        "#Calculo de la matriz de PRECIOS y RUTAS\n",
        "################################################################\n",
        "def Precios(TARIFAS):\n",
        "################################################################\n",
        "  #Total de Nodos\n",
        "  N = len(TARIFAS[0])\n",
        "\n",
        "  #Inicialización de la tabla de precios\n",
        "  PRECIOS = [ [9999]*N for i in [9999]*N]\n",
        "  RUTA = [ [\"\"]*N for i in [\"\"]*N]\n",
        "\n",
        "  for i in range(0,N-1):\n",
        "    RUTA[i][i] = i             #Para ir de i a i se \"pasa por i\"\n",
        "    PRECIOS[i][i] = 0          #Para ir de i a i se se paga 0\n",
        "    for j in range(i+1, N):\n",
        "      MIN = TARIFAS[i][j]\n",
        "      RUTA[i][j] = i\n",
        "\n",
        "      for k in range(i, j):\n",
        "        if PRECIOS[i][k] + TARIFAS[k][j] < MIN:\n",
        "            MIN = min(MIN, PRECIOS[i][k] + TARIFAS[k][j] )\n",
        "            RUTA[i][j] = k          #Anota que para ir de i a j hay que pasar por k\n",
        "        PRECIOS[i][j] = MIN\n",
        "\n",
        "  return PRECIOS,RUTA\n",
        "################################################################\n",
        "\n",
        "PRECIOS,RUTA = Precios(TARIFAS)\n",
        "#print(PRECIOS[0][6])\n",
        "\n",
        "print(\"PRECIOS\")\n",
        "for i in range(len(TARIFAS)):\n",
        "  print(PRECIOS[i])\n",
        "\n",
        "print(\"\\nRUTA\")\n",
        "for i in range(len(TARIFAS)):\n",
        "  print(RUTA[i])\n",
        "\n",
        "#Determinar la ruta con Recursividad\n",
        "def calcular_ruta(RUTA, desde, hasta):\n",
        "  if desde == hasta:\n",
        "    #print(\"Ir a :\" + str(desde))\n",
        "    return \"\"\n",
        "  else:\n",
        "    return str(calcular_ruta( RUTA, desde, RUTA[desde][hasta])) +  \\\n",
        "                ',' + \\\n",
        "                str(RUTA[desde][hasta] \\\n",
        "              )\n",
        "\n",
        "print(\"\\nLa ruta es:\")\n",
        "calcular_ruta(RUTA, 0,6)"
      ],
      "metadata": {
        "id": "ZPFzaruOYAFW",
        "colab": {
          "base_uri": "https://localhost:8080/",
          "height": 365
        },
        "outputId": "4939d67b-25cc-4d1c-cd1e-6a6a48680a56"
      },
      "execution_count": 4,
      "outputs": [
        {
          "output_type": "stream",
          "name": "stdout",
          "text": [
            "PRECIOS\n",
            "[0, 5, 4, 3, 8, 8, 11]\n",
            "[9999, 0, 999, 2, 3, 8, 7]\n",
            "[9999, 9999, 0, 1, 6, 4, 7]\n",
            "[9999, 9999, 9999, 0, 5, 6, 9]\n",
            "[9999, 9999, 9999, 9999, 0, 999, 4]\n",
            "[9999, 9999, 9999, 9999, 9999, 0, 3]\n",
            "[9999, 9999, 9999, 9999, 9999, 9999, 9999]\n",
            "\n",
            "RUTA\n",
            "[0, 0, 0, 0, 1, 2, 5]\n",
            "['', 1, 1, 1, 1, 3, 4]\n",
            "['', '', 2, 2, 3, 2, 5]\n",
            "['', '', '', 3, 3, 3, 3]\n",
            "['', '', '', '', 4, 4, 4]\n",
            "['', '', '', '', '', 5, 5]\n",
            "['', '', '', '', '', '', '']\n",
            "\n",
            "La ruta es:\n"
          ]
        },
        {
          "output_type": "execute_result",
          "data": {
            "text/plain": [
              "',0,2,5'"
            ],
            "application/vnd.google.colaboratory.intrinsic+json": {
              "type": "string"
            }
          },
          "metadata": {},
          "execution_count": 4
        }
      ]
    },
    {
      "cell_type": "markdown",
      "source": [],
      "metadata": {
        "id": "wikH6LGuMgdO"
      }
    },
    {
      "cell_type": "markdown",
      "source": [
        "# Ejercicio Indivual: Encontrar los dos puntos más cercanos"
      ],
      "metadata": {
        "id": "_1UN5xqvVV7J"
      }
    },
    {
      "cell_type": "markdown",
      "source": [
        "## Los dos métodos en 1 Dimensión\n"
      ],
      "metadata": {
        "id": "0LbLR2mwWTww"
      }
    },
    {
      "cell_type": "code",
      "source": [
        "import random\n",
        "import timeit\n",
        "\n",
        "random.seed(3)\n",
        "\n",
        "# Generar LISTA_1D\n",
        "LISTA_1D = [random.randrange(1,500) for x in range(1000)]\n",
        "\n",
        "# Mostrar LISTA_1D\n",
        "print(\"LISTA_1D:\")\n",
        "print(LISTA_1D)\n",
        "\n",
        "def puntos_mas_cercanos_fuerza_bruta(LISTA_1D):\n",
        "    n = len(LISTA_1D)\n",
        "    distancias = [(i, j, abs(LISTA_1D[i] - LISTA_1D[j])) for i in range(n) for j in range(i+1, n)]\n",
        "    i, j, min_dist = min(distancias, key=lambda x: x[2])\n",
        "    punto1, punto2 = LISTA_1D[i], LISTA_1D[j]\n",
        "    return punto1, punto2\n",
        "\n",
        "\n",
        "\n",
        "def divide_y_venceras(LISTA_1D):\n",
        "    if len(LISTA_1D) <= 3:\n",
        "        return puntos_mas_cercanos_fuerza_bruta(LISTA_1D)\n",
        "    mid = len(LISTA_1D) // 2\n",
        "    lista_izq = LISTA_1D[:mid]\n",
        "    lista_der = LISTA_1D[mid:]\n",
        "    punto1_izq, punto2_izq = divide_y_venceras(lista_izq)\n",
        "    punto1_der, punto2_der = divide_y_venceras(lista_der)\n",
        "    dist_izq = abs(punto1_izq - punto2_izq)\n",
        "    dist_der = abs(punto1_der - punto2_der)\n",
        "    punto1_med, punto2_med = puntos_mas_cercanos_fuerza_bruta([LISTA_1D[mid-1], LISTA_1D[mid]])\n",
        "    dist_med = abs(punto1_med - punto2_med)\n",
        "    if dist_izq <= dist_der and dist_izq <= dist_med:\n",
        "        return punto1_izq, punto2_izq\n",
        "    elif dist_der <= dist_izq and dist_der <= dist_med:\n",
        "        return punto1_der, punto2_der\n",
        "    else:\n",
        "        return punto1_med, punto2_med\n",
        "\n",
        "# Ordenar la lista\n",
        "LISTA_1D.sort()\n",
        "\n",
        "# Medir el tiempo de cómputo para cada método usando timeit\n",
        "tiempo_fuerza_bruta = timeit.timeit(lambda: puntos_mas_cercanos_fuerza_bruta(LISTA_1D), number=1)\n",
        "tiempo_divide_y_venceras = timeit.timeit(lambda: divide_y_venceras(LISTA_1D), number=1)\n",
        "\n",
        "print(f\"Fuerza bruta: Los dos puntos más cercanos son {puntos_mas_cercanos_fuerza_bruta(LISTA_1D)}. Tiempo de cómputo: {tiempo_fuerza_bruta} segundos.\")\n",
        "print(f\"Divide y Vencerás: Los dos puntos más cercanos son {divide_y_venceras(LISTA_1D)}. Tiempo de cómputo: {tiempo_divide_y_venceras} segundos.\")\n"
      ],
      "metadata": {
        "colab": {
          "base_uri": "https://localhost:8080/",
          "height": 0
        },
        "id": "f5Q_HdFgVVE4",
        "outputId": "11d09d05-6ff2-48de-8cff-0f0863727cf2"
      },
      "execution_count": 5,
      "outputs": [
        {
          "output_type": "stream",
          "name": "stdout",
          "text": [
            "LISTA_1D:\n",
            "[122, 304, 279, 67, 190, 469, 310, 243, 321, 298, 34, 311, 7, 466, 429, 241, 133, 283, 120, 99, 368, 241, 277, 429, 282, 244, 204, 328, 441, 78, 119, 326, 78, 445, 475, 268, 200, 380, 8, 344, 398, 33, 82, 389, 491, 303, 22, 155, 400, 16, 422, 444, 138, 243, 305, 369, 472, 450, 199, 366, 404, 472, 219, 203, 373, 411, 296, 228, 494, 480, 69, 450, 188, 50, 19, 70, 254, 112, 133, 495, 345, 224, 399, 321, 438, 155, 216, 260, 427, 198, 294, 180, 274, 300, 209, 300, 119, 463, 173, 350, 469, 476, 15, 439, 144, 311, 344, 357, 84, 358, 441, 168, 494, 278, 464, 293, 292, 54, 366, 336, 109, 325, 426, 294, 137, 146, 64, 33, 247, 438, 328, 248, 46, 177, 410, 35, 211, 460, 78, 11, 151, 219, 394, 213, 447, 61, 23, 310, 315, 390, 24, 194, 368, 301, 170, 283, 452, 473, 143, 259, 121, 19, 159, 4, 40, 56, 308, 275, 17, 486, 102, 498, 209, 150, 313, 135, 80, 354, 22, 445, 174, 161, 185, 491, 71, 460, 442, 194, 193, 236, 446, 267, 198, 330, 444, 305, 349, 287, 53, 318, 499, 482, 416, 260, 139, 221, 325, 369, 367, 122, 480, 155, 224, 133, 267, 156, 281, 174, 6, 404, 213, 297, 162, 11, 193, 316, 302, 324, 69, 31, 325, 322, 171, 239, 181, 348, 470, 181, 312, 362, 143, 378, 251, 12, 302, 32, 489, 347, 11, 494, 190, 129, 322, 234, 153, 304, 308, 164, 91, 187, 95, 161, 389, 190, 433, 305, 136, 154, 404, 194, 54, 396, 417, 14, 498, 292, 351, 377, 68, 159, 257, 114, 335, 412, 138, 123, 168, 96, 348, 223, 333, 358, 50, 53, 308, 165, 486, 171, 346, 427, 115, 225, 415, 439, 492, 87, 41, 173, 380, 333, 112, 454, 292, 231, 139, 116, 403, 62, 18, 272, 491, 98, 162, 414, 429, 430, 295, 94, 443, 143, 175, 414, 424, 329, 44, 413, 318, 177, 302, 67, 216, 150, 266, 407, 436, 139, 238, 178, 325, 214, 149, 215, 291, 210, 19, 472, 212, 80, 103, 3, 245, 483, 427, 451, 319, 262, 223, 287, 487, 475, 368, 114, 17, 382, 234, 429, 386, 340, 383, 266, 494, 148, 279, 175, 456, 117, 442, 35, 440, 302, 498, 147, 62, 415, 126, 24, 18, 463, 412, 356, 263, 474, 102, 460, 453, 461, 221, 296, 26, 7, 247, 382, 62, 88, 258, 154, 123, 340, 11, 269, 275, 212, 28, 481, 468, 314, 59, 175, 65, 130, 498, 442, 277, 245, 416, 401, 32, 181, 114, 102, 63, 274, 455, 419, 62, 88, 123, 406, 141, 472, 456, 413, 66, 422, 472, 4, 250, 322, 293, 442, 205, 26, 388, 139, 128, 138, 317, 270, 267, 217, 27, 243, 166, 398, 420, 1, 439, 29, 397, 65, 24, 64, 26, 36, 248, 17, 438, 365, 45, 264, 258, 251, 162, 81, 162, 37, 180, 198, 332, 200, 301, 156, 185, 136, 98, 169, 220, 64, 66, 285, 2, 367, 371, 195, 408, 41, 291, 92, 22, 192, 236, 310, 333, 401, 278, 195, 326, 411, 23, 319, 454, 221, 28, 191, 322, 255, 390, 360, 162, 216, 487, 356, 215, 236, 10, 126, 112, 275, 139, 356, 303, 37, 412, 218, 115, 219, 67, 451, 15, 480, 167, 192, 497, 460, 287, 405, 446, 135, 63, 238, 354, 64, 481, 417, 375, 340, 436, 455, 272, 406, 193, 342, 56, 376, 164, 289, 273, 53, 416, 301, 367, 3, 243, 74, 121, 397, 200, 23, 270, 48, 289, 51, 338, 451, 193, 92, 420, 13, 175, 431, 437, 63, 14, 433, 59, 345, 247, 429, 357, 488, 146, 297, 154, 409, 46, 19, 393, 289, 262, 271, 367, 123, 55, 284, 384, 52, 479, 284, 32, 282, 167, 446, 289, 93, 424, 40, 124, 93, 331, 128, 233, 316, 359, 386, 483, 202, 130, 189, 307, 204, 481, 180, 285, 215, 495, 43, 193, 257, 121, 499, 476, 212, 432, 383, 496, 83, 213, 354, 292, 388, 297, 346, 474, 265, 352, 248, 80, 330, 206, 460, 455, 77, 84, 50, 255, 384, 248, 470, 358, 265, 487, 227, 301, 369, 440, 96, 70, 137, 386, 102, 76, 300, 264, 162, 479, 119, 436, 354, 276, 489, 400, 152, 344, 362, 438, 212, 305, 438, 300, 300, 137, 456, 112, 158, 12, 138, 246, 412, 196, 103, 89, 292, 185, 123, 165, 248, 397, 443, 74, 215, 358, 246, 360, 307, 106, 240, 298, 428, 462, 421, 335, 286, 15, 247, 370, 38, 439, 486, 205, 401, 376, 452, 492, 24, 240, 467, 118, 457, 121, 332, 368, 398, 346, 36, 491, 112, 438, 131, 124, 456, 98, 398, 133, 71, 96, 319, 361, 346, 440, 19, 461, 479, 131, 87, 443, 24, 161, 94, 217, 47, 374, 410, 44, 61, 48, 136, 427, 468, 150, 19, 183, 232, 298, 376, 346, 173, 4, 16, 172, 170, 224, 195, 249, 40, 108, 330, 300, 381, 490, 251, 201, 65, 279, 164, 62, 453, 141, 40, 341, 222, 58, 225, 455, 271, 466, 129, 50, 271, 482, 359, 192, 348, 396, 189, 388, 231, 152, 340, 347, 344, 335, 484, 413, 419, 136, 55, 387, 484, 493, 174, 345, 290, 275, 270, 59, 342, 253, 261, 181, 31, 368, 151, 348, 373, 290, 381, 94, 331, 331, 374, 324, 77, 92, 190, 456, 472, 336, 233, 64, 56, 478, 287, 73, 472, 170, 331, 369, 333, 306, 216, 285, 154, 332, 96, 235, 247, 160, 401, 91, 362, 36, 55, 367, 93, 387, 284, 279, 295, 379, 201, 184, 52, 137, 139, 197, 28, 447, 70, 22, 246, 259, 139, 127, 357, 394, 264, 182, 449, 171, 484, 207, 230, 278, 415, 396, 36, 181, 255, 434, 58, 78, 139, 303, 52, 349, 58, 289, 399, 466, 373, 58, 95, 358, 97, 291, 214, 344, 381, 201, 418, 384, 66, 304, 312, 75, 441, 204, 409, 100, 279]\n",
            "Fuerza bruta: Los dos puntos más cercanos son (3, 3). Tiempo de cómputo: 0.3940731080000006 segundos.\n",
            "Divide y Vencerás: Los dos puntos más cercanos son (4, 4). Tiempo de cómputo: 0.0042079219999919815 segundos.\n"
          ]
        }
      ]
    },
    {
      "cell_type": "markdown",
      "source": [
        "### Calcular la complejidad. ¿Se puede mejorar?"
      ],
      "metadata": {
        "id": "0Z-l0xt4YM8H"
      }
    },
    {
      "cell_type": "markdown",
      "source": [
        "*  La complejidad de este algoritmo por fuerza bruta es O\n",
        "(n^2), donde n es el número de puntos en la lista.\n",
        "*  La complejidad de este algoritmo es O(nlogn), que es más eficiente que el método de fuerza bruta.\n",
        "\n",
        "Se puede apreciar una gran diferencia en tiempos de ejecución entre los dos metodos cuando se usan listas muy grandes de números a comparar."
      ],
      "metadata": {
        "id": "8yLYjAJVYPH9"
      }
    },
    {
      "cell_type": "markdown",
      "source": [
        "## Los dos métodos en 2 Dimensiones\n",
        "\n",
        "El espacio euclídeo (también llamado espacio euclidiano) es un tipo de espacio geométrico donde se satisfacen los axiomas de Euclides de la geometría. La recta real, el plano euclídeo y el espacio tridimensional de la geometría euclidiana son casos especiales de espacios euclidianos de dimensiones 1, 2 y 3 respectivamente. El concepto como conjunto, Rn es la serie de n-adas ordenadas de números reales"
      ],
      "metadata": {
        "id": "MIG61mvvYVtC"
      }
    },
    {
      "cell_type": "code",
      "source": [
        "import random\n",
        "import timeit\n",
        "import math\n",
        "\n",
        "# Establecemos la semilla\n",
        "random.seed(0)\n",
        "\n",
        "# Generar LISTA_2D\n",
        "LISTA_2D = [(random.randrange(1, 1000), random.randrange(1, 1000)) for _ in range(1000)]\n",
        "\n",
        "def calcular_distancia(p1, p2):\n",
        "    return math.sqrt((p1[0] - p2[0])**2 + (p1[1] - p2[1])**2)\n",
        "\n",
        "def puntos_mas_cercanos_fuerza_bruta(LISTA_2D):\n",
        "    min_dist = float('inf')\n",
        "    punto1, punto2 = None, None\n",
        "\n",
        "    for i in range(len(LISTA_2D)):\n",
        "        for j in range(i + 1, len(LISTA_2D)):\n",
        "            dist = calcular_distancia(LISTA_2D[i], LISTA_2D[j])\n",
        "            if dist < min_dist:\n",
        "                min_dist = dist\n",
        "                punto1, punto2 = LISTA_2D[i], LISTA_2D[j]\n",
        "\n",
        "    return punto1, punto2\n",
        "\n",
        "# Ordenar la lista por coordenada X\n",
        "LISTA_2D.sort(key=lambda x: x[0])\n",
        "\n",
        "def divide_y_venceras(LISTA_2D):\n",
        "    if len(LISTA_2D) <= 3:\n",
        "        return puntos_mas_cercanos_fuerza_bruta(LISTA_2D)\n",
        "\n",
        "    mid = len(LISTA_2D) // 2\n",
        "    lista_izq = sorted(LISTA_2D[:mid], key=lambda x: x[1])\n",
        "    lista_der = sorted(LISTA_2D[mid:], key=lambda x: x[1])\n",
        "\n",
        "    punto1_izq, punto2_izq = divide_y_venceras(lista_izq)\n",
        "    punto1_der, punto2_der = divide_y_venceras(lista_der)\n",
        "\n",
        "    dist_izq = calcular_distancia(punto1_izq, punto2_izq)\n",
        "    dist_der = calcular_distancia(punto1_der, punto2_der)\n",
        "\n",
        "    punto1_med, punto2_med = puntos_mas_cercanos_fuerza_bruta([LISTA_2D[mid - 1], LISTA_2D[mid]])\n",
        "    dist_med = calcular_distancia(punto1_med, punto2_med)\n",
        "\n",
        "    if dist_izq <= dist_der and dist_izq <= dist_med:\n",
        "        return punto1_izq, punto2_izq\n",
        "    elif dist_der <= dist_izq and dist_der <= dist_med:\n",
        "        return punto1_der, punto2_der\n",
        "    else:\n",
        "        return punto1_med, punto2_med\n",
        "\n",
        "# Medir el tiempo de cómputo para cada método usando timeit\n",
        "tiempo_fuerza_bruta = round(timeit.timeit(lambda: puntos_mas_cercanos_fuerza_bruta(LISTA_2D), number=1), 5)\n",
        "tiempo_divide_y_venceras = round(timeit.timeit(lambda: divide_y_venceras(LISTA_2D), number=1), 5)\n",
        "\n",
        "# Mostrar las parejas más cercanas con cada método\n",
        "punto1, punto2 = puntos_mas_cercanos_fuerza_bruta(LISTA_2D)\n",
        "print(f\"Fuerza bruta: Los dos puntos más cercanos son {punto1} y {punto2}. Tiempo de cómputo: {tiempo_fuerza_bruta} segundos.\")\n",
        "\n",
        "punto1, punto2 = divide_y_venceras(LISTA_2D)\n",
        "print(f\"Divide y Vencerás: Los dos puntos más cercanos son {punto1} y {punto2}. Tiempo de cómputo: {tiempo_divide_y_venceras} segundos.\")\n"
      ],
      "metadata": {
        "id": "bHOrBDaWdxV3",
        "colab": {
          "base_uri": "https://localhost:8080/",
          "height": 0
        },
        "outputId": "c4a8e508-1507-47fa-ebaf-b5cc523ec6e3"
      },
      "execution_count": 6,
      "outputs": [
        {
          "output_type": "stream",
          "name": "stdout",
          "text": [
            "Fuerza bruta: Los dos puntos más cercanos son (127, 491) y (128, 491). Tiempo de cómputo: 0.53987 segundos.\n",
            "Divide y Vencerás: Los dos puntos más cercanos son (127, 491) y (128, 491). Tiempo de cómputo: 0.00481 segundos.\n"
          ]
        }
      ]
    },
    {
      "cell_type": "markdown",
      "source": [
        "En este caso de vuelve a demostrar que el más rapido el segundo metodo con tiempos de ejecucion con mucha diferencia."
      ],
      "metadata": {
        "id": "IBcJpXY64P-t"
      }
    },
    {
      "cell_type": "markdown",
      "source": [
        "## Los dos métodos en 3 Dimensiones"
      ],
      "metadata": {
        "id": "kLTdHCvv5Oox"
      }
    },
    {
      "cell_type": "code",
      "source": [
        "import random\n",
        "import math\n",
        "import timeit\n",
        "import bisect\n",
        "\n",
        "# Establecemos la semilla\n",
        "random.seed(0)\n",
        "\n",
        "# Generar LISTA_3D\n",
        "LISTA_3D = [(random.randrange(1, 500), random.randrange(1, 500), random.randrange(1, 500)) for _ in range(1000)]\n",
        "\n",
        "def calcular_distancia(p1, p2):\n",
        "    return math.sqrt((p1[0] - p2[0])**2 + (p1[1] - p2[1])**2 + (p1[2] - p2[2])**2)\n",
        "\n",
        "def puntos_mas_cercanos_fuerza_bruta(LISTA_3D):\n",
        "    distancias = [calcular_distancia(LISTA_3D[i], LISTA_3D[j]) for i in range(len(LISTA_3D)) for j in range(i+1, len(LISTA_3D))]\n",
        "    min_dist = min(distancias)\n",
        "    indice = distancias.index(min_dist)\n",
        "    i = indice // (len(LISTA_3D) - 1)\n",
        "    j = indice % (len(LISTA_3D) - 1) + i + 1\n",
        "    punto1, punto2 = LISTA_3D[i], LISTA_3D[j]\n",
        "    return punto1, punto2\n",
        "\n",
        "# Ordenar la lista por coordenada X\n",
        "LISTA_3D.sort(key=lambda x: (x[0], x[1], x[2]))\n",
        "\n",
        "def divide_y_venceras(LISTA_3D):\n",
        "    if len(LISTA_3D) <= 3:\n",
        "        return puntos_mas_cercanos_fuerza_bruta(LISTA_3D)\n",
        "\n",
        "    mid = len(LISTA_3D) // 2\n",
        "    lista_izq = sorted(LISTA_3D[:mid], key=lambda x: (x[1], x[2]))\n",
        "    lista_der = sorted(LISTA_3D[mid:], key=lambda x: (x[1], x[2]))\n",
        "\n",
        "    punto1_izq, punto2_izq = divide_y_venceras(lista_izq)\n",
        "    punto1_der, punto2_der = divide_y_venceras(lista_der)\n",
        "\n",
        "    dist_izq = calcular_distancia(punto1_izq, punto2_izq)\n",
        "    dist_der = calcular_distancia(punto1_der, punto2_der)\n",
        "\n",
        "    punto1_med, punto2_med = puntos_mas_cercanos_fuerza_bruta([LISTA_3D[mid-1], LISTA_3D[mid]])\n",
        "    dist_med = calcular_distancia(punto1_med, punto2_med)\n",
        "\n",
        "    if dist_izq <= dist_der and dist_izq <= dist_med:\n",
        "        return punto1_izq, punto2_izq\n",
        "    elif dist_der <= dist_izq and dist_der <= dist_med:\n",
        "        return punto1_der, punto2_der\n",
        "    else:\n",
        "        return punto1_med, punto2_med\n",
        "\n",
        "# Medir el tiempo de cómputo para cada método usando timeit\n",
        "tiempo_fuerza_bruta = round(timeit.timeit(lambda: puntos_mas_cercanos_fuerza_bruta(LISTA_3D), number=1), 5)\n",
        "tiempo_divide_y_venceras = round(timeit.timeit(lambda: divide_y_venceras(LISTA_3D), number=1), 5)\n",
        "\n",
        "# Mostrar las parejas más cercanas con cada método\n",
        "punto1, punto2 = puntos_mas_cercanos_fuerza_bruta(LISTA_3D)\n",
        "print(f\"Fuerza bruta: Los dos puntos más cercanos son {punto1} y {punto2}. Tiempo de cómputo: {tiempo_fuerza_bruta} segundos.\")\n",
        "\n",
        "punto1, punto2 = divide_y_venceras(LISTA_3D)\n",
        "print(f\"Divide y Vencerás: Los dos puntos más cercanos son {punto1} y {punto2}. Tiempo de cómputo: {tiempo_divide_y_venceras} segundos.\")\n"
      ],
      "metadata": {
        "colab": {
          "base_uri": "https://localhost:8080/",
          "height": 0
        },
        "id": "Gc40nMZY3BWv",
        "outputId": "db753f74-4d05-4727-cdb0-88eaaee0d84b"
      },
      "execution_count": 7,
      "outputs": [
        {
          "output_type": "stream",
          "name": "stdout",
          "text": [
            "Fuerza bruta: Los dos puntos más cercanos son (236, 367, 170) y (416, 213, 97). Tiempo de cómputo: 0.76319 segundos.\n",
            "Divide y Vencerás: Los dos puntos más cercanos son (16, 269, 70) y (19, 269, 76). Tiempo de cómputo: 0.00726 segundos.\n"
          ]
        }
      ]
    },
    {
      "cell_type": "code",
      "source": [],
      "metadata": {
        "id": "RfnqCSii5f9g"
      },
      "execution_count": null,
      "outputs": []
    }
  ]
}