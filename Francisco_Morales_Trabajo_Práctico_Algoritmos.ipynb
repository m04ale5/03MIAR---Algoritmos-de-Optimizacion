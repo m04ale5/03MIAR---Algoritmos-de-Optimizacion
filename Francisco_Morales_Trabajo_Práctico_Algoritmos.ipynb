{
  "nbformat": 4,
  "nbformat_minor": 0,
  "metadata": {
    "colab": {
      "provenance": [],
      "include_colab_link": true
    },
    "kernelspec": {
      "name": "python3",
      "display_name": "Python 3"
    }
  },
  "cells": [
    {
      "cell_type": "markdown",
      "metadata": {
        "id": "view-in-github",
        "colab_type": "text"
      },
      "source": [
        "<a href=\"https://colab.research.google.com/github/m04ale5/03MIAR---Algoritmos-de-Optimizacion/blob/main/Francisco_Morales_Trabajo_Pr%C3%A1ctico_Algoritmos.ipynb\" target=\"_parent\"><img src=\"https://colab.research.google.com/assets/colab-badge.svg\" alt=\"Open In Colab\"/></a>"
      ]
    },
    {
      "cell_type": "markdown",
      "metadata": {
        "id": "hVbXYX-RfPWh"
      },
      "source": [
        "# Algoritmos de optimización - Trabajo Práctico<br>\n",
        "Nombre y Apellidos: Francisco Moraleas Peris  <br>\n",
        "Url: https://github.com/.../03MAIR---Algoritmos-de-Optimizacion---/tree/master/TrabajoPractico<br>\n",
        "Google Colab: https://colab.research.google.com/drive/1zwiWtnqTTXjrqRqu8g2AnVcUA4h39ad8?usp=sharing <br>\n",
        "Problema:\n",
        ">2. Organizar los horarios de partidos de La Liga<br>\n",
        "\n",
        "Descripción del problema:\n",
        "Desde la La Liga de fútbol profesional se pretende organizar los horarios de los partidos de\n",
        "liga de cada jornada. Se conocen algunos datos que nos deben llevar a diseñar un\n",
        "algoritmo que realice la asignación de los partidos a los horarios de forma que maximice la\n",
        "audiencia.\n",
        "Los horarios disponibles se conocen a priori\n",
        "\n",
        "*   Los horarios disponibles se conocen a priori\n",
        "*   En primer lugar se clasifican los equipos en tres categorías según el numero de\n",
        "seguidores( que tiene relación directa con la audiencia). Hay 3 equipos en la\n",
        "categoría A, 11 equipos de categoría B y 6 equipos de categoría C.\n",
        "\n",
        "*   Se conoce estadísticamente la audiencia que genera cada partido según los equipos\n",
        "que se enfrentan y en horario de sábado a las 20h (el mejor en todos los casos)\n",
        "\n",
        "\n",
        "*   Si el horario del partido no se realiza a las 20 horas del sábado se sabe que se reduce\n",
        "según los coeficientes de la siguiente tabla\n",
        "*   Debemos asignar obligatoriamente siempre un partido el viernes y un partido el lunes\n",
        "*   Es posible la coincidencia de horarios pero en este\n",
        "caso la audiencia de cada partido se verá afectada y\n",
        "se estima que se reduce en porcentaje según la\n",
        "siguiente tabla dependiendo del número de\n",
        "coincidencias.\n",
        "\n"
      ]
    },
    {
      "cell_type": "markdown",
      "source": [
        "#Modelo\n",
        "- ¿Como represento el espacio de soluciones?\n",
        "- ¿Cual es la función objetivo?\n",
        "- ¿Como implemento las restricciones?"
      ],
      "metadata": {
        "id": "Sbo9IqQtpaHZ"
      }
    },
    {
      "cell_type": "markdown",
      "source": [],
      "metadata": {
        "id": "67p_vszBposu"
      }
    },
    {
      "cell_type": "code",
      "metadata": {
        "id": "AiskKkzZfy4e"
      },
      "source": [
        "#Respuesta\n"
      ],
      "execution_count": null,
      "outputs": []
    },
    {
      "cell_type": "markdown",
      "source": [
        "#Análisis\n",
        "- ¿Que complejidad tiene el problema?. Orden de complejidad y Contabilizar el espacio de soluciones"
      ],
      "metadata": {
        "id": "HZz52wOppp-U"
      }
    },
    {
      "cell_type": "code",
      "source": [
        "#Respuesta\n"
      ],
      "metadata": {
        "id": "CZ-5BmpspttV"
      },
      "execution_count": null,
      "outputs": []
    },
    {
      "cell_type": "markdown",
      "source": [
        "#Diseño\n",
        "- ¿Que técnica utilizo? ¿Por qué?"
      ],
      "metadata": {
        "id": "ixEJUwH_pv7M"
      }
    },
    {
      "cell_type": "code",
      "source": [
        "import itertools\n",
        "\n",
        "# Definir los horarios disponibles y sus coeficientes de audiencia\n",
        "horarios_disponibles = {\n",
        "    'Viernes': {'20': 0.4},\n",
        "    'Sábado': {'12': 0.55, '16': 0.7, '18': 0.8, '20': 1},\n",
        "    'Domingo': {'12': 0.45, '16': 0.75, '18': 0.85, '20': 1},\n",
        "    'Lunes': {'20': 0.4}\n",
        "}\n",
        "\n",
        "# Definir las categorías de equipos y la cantidad de equipos en cada categoría\n",
        "categorias_equipos = {\n",
        "    'A': 3,\n",
        "    'B': 11,\n",
        "    'C': 6\n",
        "}\n",
        "\n",
        "# Definir la audiencia de cada tipo de partido\n",
        "audiencia_partidos = {\n",
        "    ('A', 'A'): 2,\n",
        "    ('A', 'B'): 1.3,\n",
        "    ('A', 'C'): 1,\n",
        "    ('B', 'B'): 0.9,\n",
        "    ('B', 'C'): 0.75,\n",
        "    ('C', 'C'): 0.47\n",
        "}\n",
        "\n",
        "# Tabla de reducción de audiencia según el número de coincidencias de horarios\n",
        "reduccion_coincidencias = {\n",
        "    0: 0,\n",
        "    1: 0.25,\n",
        "    2: 0.45,\n",
        "    3: 0.6,\n",
        "    4: 0.7,\n",
        "    5: 0.75,\n",
        "    6: 0.78,\n",
        "    7: 0.8\n",
        "}\n",
        "\n",
        "# Jornada a optimizar\n",
        "jornada = [('B', 'A'), ('B', 'A'), ('C', 'C'), ('B', 'A'), ('C', 'C'), ('B', 'C'), ('B', 'B'), ('B', 'B'), ('B', 'C'), ('B', 'B')]\n",
        "\n",
        "# Calcular todas las combinaciones de partidos y horarios\n",
        "combinaciones = list(itertools.product(horarios_disponibles['Viernes'], horarios_disponibles['Sábado'], horarios_disponibles['Domingo'], horarios_disponibles['Lunes']))\n",
        "\n",
        "mejor_audiencia = 0\n",
        "mejor_combinacion = None\n",
        "\n",
        "# Iterar sobre cada combinación de partidos y horarios\n",
        "for combinacion in combinaciones:\n",
        "    audiencia_total = 0\n",
        "    index_partido = 0\n",
        "    partidos_programados = {}\n",
        "\n",
        "    # Calcular la audiencia total para esta combinación\n",
        "    for categoria_equipo1, categoria_equipo2 in jornada:\n",
        "        horario = combinacion[index_partido % len(combinacion)]\n",
        "        audiencia = audiencia_partidos[(categoria_equipo1, categoria_equipo2)] * horarios_disponibles[horario[0]][horario[1]]\n",
        "        partidos_programados[index_partido] = horario\n",
        "        audiencia_total += audiencia\n",
        "        index_partido += 1\n",
        "\n",
        "    # Calcular el número de coincidencias de horarios\n",
        "    coincidencias = sum([list(combinacion).count(horario) - 1 for horario in combinacion])\n",
        "\n",
        "    # Aplicar la reducción de audiencia por coincidencias de horarios\n",
        "    reduccion = reduccion_coincidencias[coincidencias]\n",
        "    audiencia_total *= (1 - reduccion)\n",
        "\n",
        "    # Actualizar la mejor audiencia y la mejor combinación si es necesario\n",
        "    if audiencia_total > mejor_audiencia:\n",
        "        mejor_audiencia = audiencia_total\n",
        "        mejor_combinacion = partidos_programados\n",
        "\n",
        "# Imprimir la mejor combinación y la mejor audiencia\n",
        "print(\"Mejor combinación de partidos y horarios:\")\n",
        "for partido, horario in mejor_combinacion.items():\n",
        "    print(f\"Partido {partido + 1}: Horario - {horario[0]} {horario[1]}:00\")\n",
        "print(\"Audiencia máxima:\", mejor_audiencia)\n"
      ],
      "metadata": {
        "id": "ZdKPjB9gp2BA",
        "colab": {
          "base_uri": "https://localhost:8080/",
          "height": 211
        },
        "outputId": "548f4103-d1ec-474b-9651-99671ebac432"
      },
      "execution_count": 2,
      "outputs": [
        {
          "output_type": "error",
          "ename": "KeyError",
          "evalue": "('B', 'A')",
          "traceback": [
            "\u001b[0;31m---------------------------------------------------------------------------\u001b[0m",
            "\u001b[0;31mKeyError\u001b[0m                                  Traceback (most recent call last)",
            "\u001b[0;32m<ipython-input-2-c8926d8fb761>\u001b[0m in \u001b[0;36m<cell line: 50>\u001b[0;34m()\u001b[0m\n\u001b[1;32m     56\u001b[0m     \u001b[0;32mfor\u001b[0m \u001b[0mcategoria_equipo1\u001b[0m\u001b[0;34m,\u001b[0m \u001b[0mcategoria_equipo2\u001b[0m \u001b[0;32min\u001b[0m \u001b[0mjornada\u001b[0m\u001b[0;34m:\u001b[0m\u001b[0;34m\u001b[0m\u001b[0;34m\u001b[0m\u001b[0m\n\u001b[1;32m     57\u001b[0m         \u001b[0mhorario\u001b[0m \u001b[0;34m=\u001b[0m \u001b[0mcombinacion\u001b[0m\u001b[0;34m[\u001b[0m\u001b[0mindex_partido\u001b[0m \u001b[0;34m%\u001b[0m \u001b[0mlen\u001b[0m\u001b[0;34m(\u001b[0m\u001b[0mcombinacion\u001b[0m\u001b[0;34m)\u001b[0m\u001b[0;34m]\u001b[0m\u001b[0;34m\u001b[0m\u001b[0;34m\u001b[0m\u001b[0m\n\u001b[0;32m---> 58\u001b[0;31m         \u001b[0maudiencia\u001b[0m \u001b[0;34m=\u001b[0m \u001b[0maudiencia_partidos\u001b[0m\u001b[0;34m[\u001b[0m\u001b[0;34m(\u001b[0m\u001b[0mcategoria_equipo1\u001b[0m\u001b[0;34m,\u001b[0m \u001b[0mcategoria_equipo2\u001b[0m\u001b[0;34m)\u001b[0m\u001b[0;34m]\u001b[0m \u001b[0;34m*\u001b[0m \u001b[0mhorarios_disponibles\u001b[0m\u001b[0;34m[\u001b[0m\u001b[0mhorario\u001b[0m\u001b[0;34m[\u001b[0m\u001b[0;36m0\u001b[0m\u001b[0;34m]\u001b[0m\u001b[0;34m]\u001b[0m\u001b[0;34m[\u001b[0m\u001b[0mhorario\u001b[0m\u001b[0;34m[\u001b[0m\u001b[0;36m1\u001b[0m\u001b[0;34m]\u001b[0m\u001b[0;34m]\u001b[0m\u001b[0;34m\u001b[0m\u001b[0;34m\u001b[0m\u001b[0m\n\u001b[0m\u001b[1;32m     59\u001b[0m         \u001b[0mpartidos_programados\u001b[0m\u001b[0;34m[\u001b[0m\u001b[0mindex_partido\u001b[0m\u001b[0;34m]\u001b[0m \u001b[0;34m=\u001b[0m \u001b[0mhorario\u001b[0m\u001b[0;34m\u001b[0m\u001b[0;34m\u001b[0m\u001b[0m\n\u001b[1;32m     60\u001b[0m         \u001b[0maudiencia_total\u001b[0m \u001b[0;34m+=\u001b[0m \u001b[0maudiencia\u001b[0m\u001b[0;34m\u001b[0m\u001b[0;34m\u001b[0m\u001b[0m\n",
            "\u001b[0;31mKeyError\u001b[0m: ('B', 'A')"
          ]
        }
      ]
    },
    {
      "cell_type": "code",
      "source": [
        "import itertools\n",
        "\n",
        "# Definir los horarios disponibles y sus coeficientes de audiencia\n",
        "horarios_disponibles = {\n",
        "    'Viernes': {'20': 0.4},\n",
        "    'Sábado': {'12': 0.55, '16': 0.7, '18': 0.8, '20': 1},\n",
        "    'Domingo': {'12': 1, '16': 1, '18': 1, '20': 0.4},\n",
        "    'Lunes': {'20': 0.4}\n",
        "}\n",
        "\n",
        "# Definir las categorías de equipos y la cantidad de equipos en cada categoría\n",
        "categorias_equipos = {\n",
        "    'A': 3,\n",
        "    'B': 11,\n",
        "    'C': 6\n",
        "}\n",
        "\n",
        "# Definir la audiencia de cada tipo de partido\n",
        "audiencia_partidos = {\n",
        "    ('A', 'A'): 2,\n",
        "    ('A', 'B'): 1.3,\n",
        "    ('A', 'C'): 1,\n",
        "    ('B', 'B'): 0.9,\n",
        "    ('B', 'C'): 0.75,\n",
        "    ('C', 'C'): 0.47\n",
        "}\n",
        "\n",
        "# Tabla de reducción de audiencia según el número de coincidencias de horarios\n",
        "reduccion_coincidencias = {\n",
        "    0: 0,\n",
        "    1: 0.25,\n",
        "    2: 0.45,\n",
        "    3: 0.6,\n",
        "    4: 0.7,\n",
        "    5: 0.75,\n",
        "    6: 0.78,\n",
        "    7: 0.8\n",
        "}\n",
        "\n",
        "# Jornada a optimizar\n",
        "jornada = [('B', 'A'), ('B', 'A'), ('C', 'C'), ('B', 'A'), ('C', 'C'), ('B', 'C'), ('B', 'B'), ('B', 'B'), ('B', 'C'), ('B', 'B')]\n",
        "\n",
        "mejor_audiencia = 0\n",
        "mejor_combinacion = None\n",
        "\n",
        "# Generar todas las posibles combinaciones de horarios para cada partido\n",
        "combinaciones_horarios = list(itertools.product(horarios_disponibles['Viernes'], horarios_disponibles['Sábado'], horarios_disponibles['Domingo'], horarios_disponibles['Lunes']))\n",
        "\n",
        "# Iterar sobre cada combinación de horarios para calcular la audiencia\n",
        "for combinacion_horarios in combinaciones_horarios:\n",
        "    audiencia_total = 0\n",
        "    index_partido = 0\n",
        "    partidos_programados = {}\n",
        "\n",
        "    # Calcular la audiencia total para esta combinación de horarios\n",
        "    for categoria_equipo1, categoria_equipo2 in jornada:\n",
        "        horario = combinacion_horarios[index_partido % len(combinacion_horarios)]\n",
        "        audiencia = audiencia_partidos[(categoria_equipo1, categoria_equipo2)] * horarios_disponibles[horario[0]][horario[1]]\n",
        "        partidos_programados[index_partido] = horario\n",
        "        audiencia_total += audiencia\n",
        "        index_partido += 1\n",
        "\n",
        "    # Calcular el número de coincidencias de horarios\n",
        "    coincidencias = sum([list(combinacion_horarios).count(horario) - 1 for horario in combinacion_horarios])\n",
        "\n",
        "    # Aplicar la reducción de audiencia por coincidencias de horarios\n",
        "    reduccion = reduccion_coincidencias[coincidencias]\n",
        "    audiencia_total *= (1 - reduccion)\n",
        "\n",
        "    # Actualizar la mejor audiencia y la mejor combinación si es necesario\n",
        "    if audiencia_total > mejor_audiencia:\n",
        "        mejor_audiencia = audiencia_total\n",
        "        mejor_combinacion = partidos_programados\n",
        "\n",
        "# Imprimir la mejor combinación y la mejor audiencia\n",
        "print(\"Mejor combinación de partidos y horarios:\")\n",
        "for partido, horario in mejor_combinacion.items():\n",
        "    print(f\"Partido {partido + 1}: Horario - {horario[0]} {horario[1]}:00\")\n",
        "print(\"Audiencia máxima:\", mejor_audiencia)\n"
      ],
      "metadata": {
        "id": "QrmO1xpLKmz3",
        "colab": {
          "base_uri": "https://localhost:8080/",
          "height": 211
        },
        "outputId": "a009a227-7d14-44c5-c606-f72c8b66bcce"
      },
      "execution_count": 3,
      "outputs": [
        {
          "output_type": "error",
          "ename": "KeyError",
          "evalue": "('B', 'A')",
          "traceback": [
            "\u001b[0;31m---------------------------------------------------------------------------\u001b[0m",
            "\u001b[0;31mKeyError\u001b[0m                                  Traceback (most recent call last)",
            "\u001b[0;32m<ipython-input-3-6686ed7af30c>\u001b[0m in \u001b[0;36m<cell line: 50>\u001b[0;34m()\u001b[0m\n\u001b[1;32m     56\u001b[0m     \u001b[0;32mfor\u001b[0m \u001b[0mcategoria_equipo1\u001b[0m\u001b[0;34m,\u001b[0m \u001b[0mcategoria_equipo2\u001b[0m \u001b[0;32min\u001b[0m \u001b[0mjornada\u001b[0m\u001b[0;34m:\u001b[0m\u001b[0;34m\u001b[0m\u001b[0;34m\u001b[0m\u001b[0m\n\u001b[1;32m     57\u001b[0m         \u001b[0mhorario\u001b[0m \u001b[0;34m=\u001b[0m \u001b[0mcombinacion_horarios\u001b[0m\u001b[0;34m[\u001b[0m\u001b[0mindex_partido\u001b[0m \u001b[0;34m%\u001b[0m \u001b[0mlen\u001b[0m\u001b[0;34m(\u001b[0m\u001b[0mcombinacion_horarios\u001b[0m\u001b[0;34m)\u001b[0m\u001b[0;34m]\u001b[0m\u001b[0;34m\u001b[0m\u001b[0;34m\u001b[0m\u001b[0m\n\u001b[0;32m---> 58\u001b[0;31m         \u001b[0maudiencia\u001b[0m \u001b[0;34m=\u001b[0m \u001b[0maudiencia_partidos\u001b[0m\u001b[0;34m[\u001b[0m\u001b[0;34m(\u001b[0m\u001b[0mcategoria_equipo1\u001b[0m\u001b[0;34m,\u001b[0m \u001b[0mcategoria_equipo2\u001b[0m\u001b[0;34m)\u001b[0m\u001b[0;34m]\u001b[0m \u001b[0;34m*\u001b[0m \u001b[0mhorarios_disponibles\u001b[0m\u001b[0;34m[\u001b[0m\u001b[0mhorario\u001b[0m\u001b[0;34m[\u001b[0m\u001b[0;36m0\u001b[0m\u001b[0;34m]\u001b[0m\u001b[0;34m]\u001b[0m\u001b[0;34m[\u001b[0m\u001b[0mhorario\u001b[0m\u001b[0;34m[\u001b[0m\u001b[0;36m1\u001b[0m\u001b[0;34m]\u001b[0m\u001b[0;34m]\u001b[0m\u001b[0;34m\u001b[0m\u001b[0;34m\u001b[0m\u001b[0m\n\u001b[0m\u001b[1;32m     59\u001b[0m         \u001b[0mpartidos_programados\u001b[0m\u001b[0;34m[\u001b[0m\u001b[0mindex_partido\u001b[0m\u001b[0;34m]\u001b[0m \u001b[0;34m=\u001b[0m \u001b[0mhorario\u001b[0m\u001b[0;34m\u001b[0m\u001b[0;34m\u001b[0m\u001b[0m\n\u001b[1;32m     60\u001b[0m         \u001b[0maudiencia_total\u001b[0m \u001b[0;34m+=\u001b[0m \u001b[0maudiencia\u001b[0m\u001b[0;34m\u001b[0m\u001b[0;34m\u001b[0m\u001b[0m\n",
            "\u001b[0;31mKeyError\u001b[0m: ('B', 'A')"
          ]
        }
      ]
    },
    {
      "cell_type": "code",
      "source": [],
      "metadata": {
        "id": "m2lT27KPMY2f"
      },
      "execution_count": null,
      "outputs": []
    }
  ]
}